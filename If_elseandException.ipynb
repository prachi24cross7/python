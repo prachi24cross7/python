{
  "nbformat": 4,
  "nbformat_minor": 0,
  "metadata": {
    "colab": {
      "provenance": [],
      "authorship_tag": "ABX9TyMUMTAmjE55pYER22ae9FtO",
      "include_colab_link": true
    },
    "kernelspec": {
      "name": "python3",
      "display_name": "Python 3"
    },
    "language_info": {
      "name": "python"
    }
  },
  "cells": [
    {
      "cell_type": "markdown",
      "metadata": {
        "id": "view-in-github",
        "colab_type": "text"
      },
      "source": [
        "<a href=\"https://colab.research.google.com/github/prachi24cross7/python/blob/main/If_elseandException.ipynb\" target=\"_parent\"><img src=\"https://colab.research.google.com/assets/colab-badge.svg\" alt=\"Open In Colab\"/></a>"
      ]
    },
    {
      "cell_type": "code",
      "execution_count": 7,
      "metadata": {
        "colab": {
          "base_uri": "https://localhost:8080/"
        },
        "id": "B109h8LLcDIb",
        "outputId": "ca5503e1-7e88-46b2-abe1-16c58c8f840e"
      },
      "outputs": [
        {
          "output_type": "stream",
          "name": "stdout",
          "text": [
            "Enter the num 10\n",
            "Nice try\n",
            "If nice try is not printed, then try again\n"
          ]
        }
      ],
      "source": [
        "num = int(input(\"Enter the num \"))\n",
        "\n",
        "if num == 10:\n",
        "  print(\"Nice try\")\n",
        "\n",
        "print(\"If nice try is not printed, then try again\")"
      ]
    },
    {
      "cell_type": "code",
      "source": [
        "num = int(input(\"Enter the num \"))\n",
        "\n",
        "if num == 10:\n",
        "  print(\"Nice try\")\n",
        "else:\n",
        "  print(\"Try again later\")"
      ],
      "metadata": {
        "colab": {
          "base_uri": "https://localhost:8080/"
        },
        "id": "gNs3GxpCcXk0",
        "outputId": "a7c45834-ead8-481a-cd22-caeea98188c9"
      },
      "execution_count": 5,
      "outputs": [
        {
          "output_type": "stream",
          "name": "stdout",
          "text": [
            "Enter the num 5\n",
            "Try again later\n"
          ]
        }
      ]
    },
    {
      "cell_type": "code",
      "source": [
        "num = int(input(\"Enter the num \"))\n",
        "\n",
        "if num == 10:\n",
        "  print(\"Nice try\")\n",
        "elif num <10:\n",
        "  print(\"fine\")\n",
        "else:\n",
        "  print(\"ok\")"
      ],
      "metadata": {
        "colab": {
          "base_uri": "https://localhost:8080/"
        },
        "id": "JN3gDawRceTj",
        "outputId": "2804d8c7-a936-4987-e44e-89556d59ea2e"
      },
      "execution_count": 9,
      "outputs": [
        {
          "output_type": "stream",
          "name": "stdout",
          "text": [
            "Enter the num 5\n",
            "fine\n"
          ]
        }
      ]
    },
    {
      "cell_type": "code",
      "source": [
        "num = int(input(\"Enter the num \"))\n",
        "\n",
        "if num >= 80 and num <= 100:\n",
        "  print(\"Nice try\")\n",
        "elif num >= 60 and num < 80:\n",
        "  print(\"ok\")\n",
        "elif num >= 40 and num < 60:\n",
        "  print(\"nice\")\n",
        "elif num >= 0:\n",
        "  print(\"fail\")\n",
        "else:\n",
        "  print(\"fine\")"
      ],
      "metadata": {
        "colab": {
          "base_uri": "https://localhost:8080/"
        },
        "id": "UyZ-3k31d9mg",
        "outputId": "3d0bedfe-6f9f-44d1-ad9d-5ee89a0f5d7c"
      },
      "execution_count": 18,
      "outputs": [
        {
          "output_type": "stream",
          "name": "stdout",
          "text": [
            "Enter the num -1\n",
            "fine\n"
          ]
        }
      ]
    },
    {
      "cell_type": "code",
      "source": [
        "num = int(input(\"Enter the num \"))\n",
        "\n",
        "if num == 100:\n",
        "  print(\"wow\")\n",
        "else:\n",
        "  if num >= 80 and num < 100:\n",
        "    print(\"Nice try\")\n",
        "  elif num >= 60 and num < 80:\n",
        "    print(\"ok\")\n",
        "  elif num >= 40 and num < 60:\n",
        "    print(\"nice\")\n",
        "  elif num >= 0:\n",
        "    print(\"fail\")\n",
        "  else:\n",
        "    print(\"fine\")\n"
      ],
      "metadata": {
        "colab": {
          "base_uri": "https://localhost:8080/"
        },
        "id": "Yoq4oqG7f0_A",
        "outputId": "4b2c377b-b84e-4acf-ee35-61fed8056181"
      },
      "execution_count": 20,
      "outputs": [
        {
          "output_type": "stream",
          "name": "stdout",
          "text": [
            "Enter the num 80\n",
            "Nice try\n"
          ]
        }
      ]
    },
    {
      "cell_type": "code",
      "source": [
        "try:\n",
        "  num1 = (input(\"Enter the num \"))\n",
        "  if num1 >5:\n",
        "    print(\"ok\")\n",
        "\n",
        "except Exception as e:\n",
        "  print(e.with_traceback)\n",
        "finally:\n",
        "  print(\"hmm\")"
      ],
      "metadata": {
        "colab": {
          "base_uri": "https://localhost:8080/"
        },
        "id": "HiRLdGCTgUFA",
        "outputId": "4535a2f3-b342-479c-b8b4-826040f1c515"
      },
      "execution_count": 24,
      "outputs": [
        {
          "output_type": "stream",
          "name": "stdout",
          "text": [
            "Enter the num 4\n",
            "<built-in method with_traceback of TypeError object at 0x7e444111df30>\n",
            "hmm\n"
          ]
        }
      ]
    },
    {
      "cell_type": "code",
      "source": [
        "try:\n",
        "  c =1/0\n",
        "  print(\"what the\")\n",
        "except Exception as e:\n",
        "  print(e.with_traceback)\n",
        "finally:\n",
        "  print(\"ok\")"
      ],
      "metadata": {
        "colab": {
          "base_uri": "https://localhost:8080/"
        },
        "id": "MSfURG2Ahcrr",
        "outputId": "3ae5ee97-41a6-496f-d1f3-8f5b139e2415"
      },
      "execution_count": 26,
      "outputs": [
        {
          "output_type": "stream",
          "name": "stdout",
          "text": [
            "<built-in method with_traceback of ZeroDivisionError object at 0x7e4406d764d0>\n",
            "ok\n"
          ]
        }
      ]
    }
  ]
}