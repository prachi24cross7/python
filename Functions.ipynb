{
  "nbformat": 4,
  "nbformat_minor": 0,
  "metadata": {
    "colab": {
      "provenance": [],
      "authorship_tag": "ABX9TyO3FtLeJz8ZlYTBHDSHkzmh",
      "include_colab_link": true
    },
    "kernelspec": {
      "name": "python3",
      "display_name": "Python 3"
    },
    "language_info": {
      "name": "python"
    }
  },
  "cells": [
    {
      "cell_type": "markdown",
      "metadata": {
        "id": "view-in-github",
        "colab_type": "text"
      },
      "source": [
        "<a href=\"https://colab.research.google.com/github/prachi24cross7/python/blob/main/Functions.ipynb\" target=\"_parent\"><img src=\"https://colab.research.google.com/assets/colab-badge.svg\" alt=\"Open In Colab\"/></a>"
      ]
    },
    {
      "cell_type": "code",
      "execution_count": 3,
      "metadata": {
        "colab": {
          "base_uri": "https://localhost:8080/"
        },
        "id": "SSj6V07SOblk",
        "outputId": "22ca9551-1dfa-45a1-9d2a-4e75e0896654"
      },
      "outputs": [
        {
          "output_type": "stream",
          "name": "stdout",
          "text": [
            "21\n",
            "3.5\n"
          ]
        }
      ],
      "source": [
        "number_list = [1, 2, 4, 3, 5, 6]\n",
        "\n",
        "total = 0\n",
        "avg = 0\n",
        "\n",
        "for num in number_list:\n",
        "    total += num\n",
        "\n",
        "avg = total / len(number_list)\n",
        "\n",
        "print(total)\n",
        "print(avg)"
      ]
    },
    {
      "cell_type": "code",
      "source": [
        "def compute(number_list):\n",
        "  total = 0\n",
        "  avg = 0\n",
        "  for num in number_list:\n",
        "    total += num\n",
        "  avg = total / len(number_list)\n",
        "  return total, avg\n",
        "\n",
        "\n",
        "number_list = [1,2,3,4,5,6]\n",
        "compute(number_list)\n",
        "compute([10,20,30,40,50,60])"
      ],
      "metadata": {
        "colab": {
          "base_uri": "https://localhost:8080/"
        },
        "id": "wQd8fwGQOzpZ",
        "outputId": "899453fb-32e2-49bc-8a1f-c6affa25d16a"
      },
      "execution_count": 6,
      "outputs": [
        {
          "output_type": "execute_result",
          "data": {
            "text/plain": [
              "(210, 35.0)"
            ]
          },
          "metadata": {},
          "execution_count": 6
        }
      ]
    },
    {
      "cell_type": "code",
      "source": [
        "def print_welcome():\n",
        "  print(\"********\")\n",
        "  print(\"Welcome\")\n",
        "  print(\"********\")\n",
        "\n",
        "print_welcome()"
      ],
      "metadata": {
        "colab": {
          "base_uri": "https://localhost:8080/"
        },
        "id": "BAjDjgcjPaI3",
        "outputId": "bd651945-d942-4434-ee19-8419b6cd4336"
      },
      "execution_count": 8,
      "outputs": [
        {
          "output_type": "stream",
          "name": "stdout",
          "text": [
            "********\n",
            "Welcome\n",
            "********\n"
          ]
        }
      ]
    },
    {
      "cell_type": "code",
      "source": [
        "def find_even_odd(num):\n",
        "\n",
        "  even_num = []\n",
        "  odd_num = []\n",
        "\n",
        "  for num in number_list:\n",
        "    if num % 2 == 0:\n",
        "      print(num,\"Even\")\n",
        "    else:\n",
        "      print(num,\"Odd\")\n",
        "\n",
        "  print(\"even\")\n",
        "  for num in even_num:\n",
        "    print(num)\n",
        "\n",
        "  print(\"odd\")\n",
        "  for num in odd_num:\n",
        "    print(num)\n",
        "\n",
        "number_list = [ 1, 2, 3, 4, 5, 6]\n",
        "find_even_odd(number_list)"
      ],
      "metadata": {
        "colab": {
          "base_uri": "https://localhost:8080/"
        },
        "id": "65L-HEFkPldI",
        "outputId": "7b9e3ddf-8696-420e-b0ff-c4fe791b4c05"
      },
      "execution_count": 15,
      "outputs": [
        {
          "output_type": "stream",
          "name": "stdout",
          "text": [
            "1 Odd\n",
            "2 Even\n",
            "3 Odd\n",
            "4 Even\n",
            "5 Odd\n",
            "6 Even\n",
            "even\n",
            "odd\n"
          ]
        }
      ]
    },
    {
      "cell_type": "code",
      "source": [
        "def draw_rec(len,bd):\n",
        "  for i in range(len):\n",
        "      print(\"*\" * len)\n",
        "\n",
        "\n",
        "draw_rec(10,5)"
      ],
      "metadata": {
        "colab": {
          "base_uri": "https://localhost:8080/"
        },
        "id": "Qd-kpx1MYaIz",
        "outputId": "83ba4b9c-4af6-405a-e818-10c06a2662fb"
      },
      "execution_count": 21,
      "outputs": [
        {
          "output_type": "stream",
          "name": "stdout",
          "text": [
            "**********\n",
            "**********\n",
            "**********\n",
            "**********\n",
            "**********\n",
            "**********\n",
            "**********\n",
            "**********\n",
            "**********\n",
            "**********\n"
          ]
        }
      ]
    },
    {
      "cell_type": "code",
      "source": [
        "def draw_triangle(len):\n",
        "  for i in range(len):\n",
        "    print(\"*\" * (i+1))\n",
        "\n",
        "draw_triangle(10)"
      ],
      "metadata": {
        "colab": {
          "base_uri": "https://localhost:8080/"
        },
        "id": "s2U6z4L1Yv2D",
        "outputId": "d84280c1-33e0-4b1c-8991-0f51fd77ab88"
      },
      "execution_count": 22,
      "outputs": [
        {
          "output_type": "stream",
          "name": "stdout",
          "text": [
            "*\n",
            "**\n",
            "***\n",
            "****\n",
            "*****\n",
            "******\n",
            "*******\n",
            "********\n",
            "*********\n",
            "**********\n"
          ]
        }
      ]
    },
    {
      "cell_type": "code",
      "source": [
        "def draw_inverted_triangle(len):\n",
        "  for i in range(len, 0, -1):\n",
        "    print(\"*\" * i)\n",
        "\n",
        "draw_inverted_triangle(10)"
      ],
      "metadata": {
        "colab": {
          "base_uri": "https://localhost:8080/"
        },
        "id": "uM4G3vgjY2h7",
        "outputId": "acd247be-b5cd-42b4-dcec-2b24ff02a872"
      },
      "execution_count": 23,
      "outputs": [
        {
          "output_type": "stream",
          "name": "stdout",
          "text": [
            "**********\n",
            "*********\n",
            "********\n",
            "*******\n",
            "******\n",
            "*****\n",
            "****\n",
            "***\n",
            "**\n",
            "*\n"
          ]
        }
      ]
    }
  ]
}